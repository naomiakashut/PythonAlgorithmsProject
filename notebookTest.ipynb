{
 "cells": [
  {
   "cell_type": "code",
   "id": "initial_id",
   "metadata": {
    "collapsed": true
   },
   "source": [
    "numero = int(input(\"Digite um número: \"))\n",
    "\n",
    "i = 0\n",
    "while i < 6:\n",
    "    if numero % 2 != 0:\n",
    "        print(numero)\n",
    "        i += 1\n",
    "    numero += 1"
   ],
   "outputs": [],
   "execution_count": null
  },
  {
   "metadata": {},
   "cell_type": "code",
   "source": [
    "X = int(input())\n",
    "\n",
    "if X%2 == 0:\n",
    "    X+=1\n",
    "\n",
    "for i in range(6):\n",
    "    print(X)\n",
    "    X+=2"
   ],
   "id": "2a38ffc324c16d46",
   "outputs": [],
   "execution_count": null
  },
  {
   "metadata": {},
   "cell_type": "code",
   "source": [
    "def fibonacci(num):\n",
    "    if num == 0:\n",
    "        raise Exception(\"Number has to be above zero.\")\n",
    "\n",
    "    fibonacci_sequence = []\n",
    "\n",
    "    for i in range(0, num):\n",
    "        if i == 0:\n",
    "            fibonacci_sequence.append(0)\n",
    "        elif i == 1:\n",
    "            fibonacci_sequence.append(1)\n",
    "        else:\n",
    "            next_num = fibonacci_sequence[i-1] + fibonacci_sequence[i-2]\n",
    "            fibonacci_sequence.append(next_num)\n",
    "\n",
    "    return fibonacci_sequence[num-1]\n",
    "\n",
    "my_fib_num = int(input())\n",
    "\n",
    "for i in range(1, my_fib_num+1):\n",
    "    print(\"Fib: {} = {}\".format(i, fibonacci(i)))\n"
   ],
   "id": "3ed076f1a48a0374",
   "outputs": [],
   "execution_count": null
  },
  {
   "metadata": {},
   "cell_type": "code",
   "source": [
    "def classify_num(list):\n",
    "    even_num_list = []\n",
    "\n",
    "    odd_num_list = []\n",
    "    while list:\n",
    "        item = list[0]\n",
    "        if item % 2 == 0:\n",
    "            even_num_list.append(item)\n",
    "        else:\n",
    "            odd_num_list.append(item)\n",
    "\n",
    "        list.remove(item)\n",
    "        if len(even_num_list) == 5:\n",
    "            print(even_num_list)\n",
    "            even_num_list = []\n",
    "        elif len(odd_num_list) == 5:\n",
    "            print(odd_num_list)\n",
    "            odd_num_list = []\n",
    "\n",
    "\n",
    "    print(even_num_list)\n",
    "    print(odd_num_list)\n",
    "\n",
    "\n",
    "list = [1, 2, 3, 4, 5, 6, 7, 8, 9, 10, 11, 12, 13, 14, 15, 16, 17, 18, 19, 20, 21, 22, 23, 24, 25, 26, 27, 28, 29, 30, 31, 32, 33]\n",
    "classify_num(list)\n"
   ],
   "id": "98a97753ec8a510b",
   "outputs": [],
   "execution_count": null
  },
  {
   "metadata": {},
   "cell_type": "code",
   "source": [
    "num = int(input(\"Digite o número de casos de teste: \"))\n",
    "\n",
    "test_cases = input(\"Insira as strings de teste separando utilizando ',' seguido de um espaço: \").split(\", \")\n",
    "\n",
    "if len(test_cases) != num:\n",
    "    raise Exception(\"O número de casos de teste deve ser o mesmo da quantidade de casos de teste inseridos.\")\n",
    "\n",
    "def decode(string):\n",
    "    decoded_string = \"\"\n",
    "    decoded_string += string[0]\n",
    "    string = string[1:]\n",
    "    while string:\n",
    "        if string[0] == \".\":\n",
    "            decoded_string += string[1]\n",
    "            string = string[2:]\n",
    "        else:\n",
    "            string = string[1:]\n",
    "\n",
    "    return decoded_string\n",
    "\n",
    "for i in range(num):\n",
    "    print(\"The decoded string is:\", decode(test_cases[i]))"
   ],
   "id": "fe71b43c4f929706",
   "outputs": [],
   "execution_count": null
  },
  {
   "metadata": {},
   "cell_type": "code",
   "source": [
    "string = \"abc\"\n",
    "\n",
    "string += \"d\"\n",
    "\n",
    "print(string)"
   ],
   "id": "de489aaa3a3f552d",
   "outputs": [],
   "execution_count": null
  },
  {
   "metadata": {
    "ExecuteTime": {
     "end_time": "2025-05-02T10:35:49.849105Z",
     "start_time": "2025-05-02T10:35:49.840443Z"
    }
   },
   "cell_type": "code",
   "source": [
    "def bubble_sort(v):\n",
    "    for i in range (len(v)-1):\n",
    "        for j in range (len(v)-i-1):\n",
    "            if (v[j] > v[j+1]):\n",
    "                v[j], v[j+1] = v[j+1], v[j]\n",
    "\n",
    "    return v\n",
    "\n",
    "list = [56, 24, 8, 12, 90]\n",
    "print(bubble_sort(list))"
   ],
   "id": "7721f6c623717072",
   "outputs": [
    {
     "name": "stdout",
     "output_type": "stream",
     "text": [
      "[8, 12, 24, 56, 90]\n"
     ]
    }
   ],
   "execution_count": 1
  },
  {
   "metadata": {},
   "cell_type": "code",
   "outputs": [],
   "execution_count": null,
   "source": [
    "def insertion_sort(v):\n",
    "    for i in range (1, len(v)):\n",
    "        x = v[i]\n",
    "        j = i-1\n",
    "        while j >= 0 and x < v[j]:\n",
    "            v[j+1] = v[j]\n",
    "        v[j+1] = x\n",
    "\n",
    "\n",
    "list = [56, 24, 8, 12, 90]\n"
   ],
   "id": "5815bf010a8f5d9c"
  },
  {
   "metadata": {},
   "cell_type": "code",
   "outputs": [],
   "execution_count": null,
   "source": [
    "def merge_sort(list):\n",
    "\n"
   ],
   "id": "46c5cdffb290916d"
  },
  {
   "metadata": {
    "ExecuteTime": {
     "end_time": "2025-05-24T21:44:46.379364Z",
     "start_time": "2025-05-24T21:44:35.742789Z"
    }
   },
   "cell_type": "code",
   "source": [
    "from tkinter import Tk, Button, Entry, Label, END\n",
    "from time import strptime, strftime\n",
    "from tkinter.messagebox import showinfo\n",
    "from enum import Enum\n",
    "\n",
    "class Weekday(Enum):\n",
    "    Monday = 'segunda-feira'\n",
    "    Tuesday = 'terça-feira'\n",
    "    Wednesday = 'quarta-feira'\n",
    "    Thursday = 'quinta-feira'\n",
    "    Friday = 'sexta-feira'\n",
    "    Saturday = 'sábado'\n",
    "    Sunday = 'domingo'\n",
    "\n",
    "def compute():\n",
    "    weekday = None\n",
    "    date = dateEnt.get()\n",
    "    try:\n",
    "        weekday = strftime(\"%A\", strptime(date, \"%d/%m/%Y\"))\n",
    "    except ValueError:\n",
    "        showinfo(message = 'Por favor, digite uma data com o formato dd/mm/aaaa.')\n",
    "        dateEnt.delete(0, END)\n",
    "    showinfo(message = 'O dia {} foi uma {}.'.format(date, Weekday[weekday].value))\n",
    "    dateEnt.delete(0, END)\n",
    "\n",
    "raiz = Tk()\n",
    "label = Label(raiz, text = 'Digite uma data e descubra seu dia da semana.')\n",
    "label.grid(row = 0, column = 0)\n",
    "dateEnt = Entry(raiz)\n",
    "dateEnt.grid(row = 0, column = 1)\n",
    "button = Button(raiz, text = 'Entrar', command = compute)\n",
    "button.grid(row = 1, columnspan = 2)\n",
    "raiz.mainloop()\n"
   ],
   "id": "86e051705f2a1c0e",
   "outputs": [
    {
     "name": "stderr",
     "output_type": "stream",
     "text": [
      "Exception in Tkinter callback\n",
      "Traceback (most recent call last):\n",
      "  File \"C:\\ProgramData\\anaconda3\\Lib\\tkinter\\__init__.py\", line 1948, in __call__\n",
      "    return self.func(*args)\n",
      "           ^^^^^^^^^^^^^^^^\n",
      "  File \"C:\\Users\\Work\\AppData\\Local\\Temp\\ipykernel_6640\\2442695082.py\", line 22, in compute\n",
      "    showinfo(message = 'O dia {} foi uma {}.'.format(date, Weekday[weekday].value))\n",
      "                                                                   ^^^^^^^\n",
      "UnboundLocalError: cannot access local variable 'weekday' where it is not associated with a value\n"
     ]
    }
   ],
   "execution_count": 8
  }
 ],
 "metadata": {
  "kernelspec": {
   "display_name": "Python 3",
   "language": "python",
   "name": "python3"
  },
  "language_info": {
   "codemirror_mode": {
    "name": "ipython",
    "version": 2
   },
   "file_extension": ".py",
   "mimetype": "text/x-python",
   "name": "python",
   "nbconvert_exporter": "python",
   "pygments_lexer": "ipython2",
   "version": "2.7.6"
  }
 },
 "nbformat": 4,
 "nbformat_minor": 5
}
